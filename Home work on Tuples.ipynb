{
 "cells": [
  {
   "cell_type": "markdown",
   "id": "35aac146",
   "metadata": {},
   "source": [
    "# Exercises:\n",
    "\n",
    "Reverse the tuple Given:tuple1 = (10, 20, 30, 40, 50) Expected output:(50, 40, 30, 20, 10)\n",
    "Use tuple slicing to reverse the given tuple. Note: the last element starts at -1.\n",
    "\n",
    "Create a tuple with single item 50\n",
    "\n",
    "Counts the number of occurrences of item 50 from a tuple Given: tuple1 = (50, 10, 60, 70, 50) Expected output: 2\n",
    "\n",
    "Use the count() method of a tuple.\n",
    "\n",
    "Check if all items in the tuple are the same tuple1 = (45, 45, 45, 45) Expected output: True"
   ]
  },
  {
   "cell_type": "code",
   "execution_count": 2,
   "id": "f3b4e24a",
   "metadata": {},
   "outputs": [],
   "source": [
    "T= (10,20,30,40,50)"
   ]
  },
  {
   "cell_type": "code",
   "execution_count": 40,
   "id": "0c4907f0",
   "metadata": {},
   "outputs": [
    {
     "data": {
      "text/plain": [
       "(50, 40, 30, 20, 10)"
      ]
     },
     "execution_count": 40,
     "metadata": {},
     "output_type": "execute_result"
    }
   ],
   "source": [
    "T[::-1]"
   ]
  },
  {
   "cell_type": "code",
   "execution_count": 41,
   "id": "b95ca5f0",
   "metadata": {},
   "outputs": [
    {
     "data": {
      "text/plain": [
       "(10, 20, 30, 40, 50)"
      ]
     },
     "execution_count": 41,
     "metadata": {},
     "output_type": "execute_result"
    }
   ],
   "source": [
    "T"
   ]
  },
  {
   "cell_type": "code",
   "execution_count": 42,
   "id": "debefc63",
   "metadata": {},
   "outputs": [
    {
     "data": {
      "text/plain": [
       "50"
      ]
     },
     "execution_count": 42,
     "metadata": {},
     "output_type": "execute_result"
    }
   ],
   "source": [
    "T[-1]"
   ]
  },
  {
   "cell_type": "code",
   "execution_count": 43,
   "id": "fb8eb771",
   "metadata": {},
   "outputs": [],
   "source": [
    "Tuple1=(50.,10,60,70,50)"
   ]
  },
  {
   "cell_type": "code",
   "execution_count": 49,
   "id": "df2f2dde",
   "metadata": {},
   "outputs": [
    {
     "data": {
      "text/plain": [
       "2"
      ]
     },
     "execution_count": 49,
     "metadata": {},
     "output_type": "execute_result"
    }
   ],
   "source": [
    "Tuple1.count(50)"
   ]
  },
  {
   "cell_type": "code",
   "execution_count": 59,
   "id": "80b656a2",
   "metadata": {},
   "outputs": [],
   "source": [
    "Tuple1=(45,45,45,45)"
   ]
  },
  {
   "cell_type": "code",
   "execution_count": 62,
   "id": "b0166233",
   "metadata": {},
   "outputs": [
    {
     "data": {
      "text/plain": [
       "True"
      ]
     },
     "execution_count": 62,
     "metadata": {},
     "output_type": "execute_result"
    }
   ],
   "source": [
    "Tuple1==Tuple1"
   ]
  },
  {
   "cell_type": "code",
   "execution_count": 64,
   "id": "14fada77",
   "metadata": {},
   "outputs": [],
   "source": [
    "#string Home work\n"
   ]
  },
  {
   "cell_type": "code",
   "execution_count": null,
   "id": "25b7f5a3",
   "metadata": {},
   "outputs": [],
   "source": [
    "#1.Print the name of your school in anaconda\n",
    "#2.Print three words let each word be on its own line\n",
    "#3.Use len to give me the size of the word ‘anaconda’"
   ]
  },
  {
   "cell_type": "code",
   "execution_count": null,
   "id": "c6618db0",
   "metadata": {},
   "outputs": [],
   "source": []
  },
  {
   "cell_type": "code",
   "execution_count": 13,
   "id": "694fd92d",
   "metadata": {},
   "outputs": [
    {
     "name": "stdout",
     "output_type": "stream",
     "text": [
      "Able high school\n"
     ]
    }
   ],
   "source": [
    "print(\"Able high school\")"
   ]
  },
  {
   "cell_type": "code",
   "execution_count": 5,
   "id": "9eb92bef",
   "metadata": {},
   "outputs": [
    {
     "name": "stdout",
     "output_type": "stream",
     "text": [
      "Able \n",
      "high\n",
      "school\n"
     ]
    }
   ],
   "source": [
    "print('Able \\nhigh\\nschool')"
   ]
  },
  {
   "cell_type": "code",
   "execution_count": 6,
   "id": "b5bfde78",
   "metadata": {},
   "outputs": [
    {
     "name": "stdout",
     "output_type": "stream",
     "text": [
      "anaconda\n"
     ]
    }
   ],
   "source": [
    "print('anaconda')"
   ]
  },
  {
   "cell_type": "code",
   "execution_count": 9,
   "id": "3070468a",
   "metadata": {},
   "outputs": [
    {
     "data": {
      "text/plain": [
       "8"
      ]
     },
     "execution_count": 9,
     "metadata": {},
     "output_type": "execute_result"
    }
   ],
   "source": [
    "len('anaconda')"
   ]
  },
  {
   "cell_type": "code",
   "execution_count": null,
   "id": "c612a155",
   "metadata": {},
   "outputs": [],
   "source": [
    "# string Methods "
   ]
  },
  {
   "cell_type": "code",
   "execution_count": null,
   "id": "0643b161",
   "metadata": {},
   "outputs": [],
   "source": [
    "# .index()\n",
    "#print()\n",
    "#.replace()\n",
    "#.find()\n",
    "#.count()\n",
    "#len()\n",
    "#center()\n",
    "#float()\n",
    "#format()\n",
    "#capitaliza()\n"
   ]
  },
  {
   "cell_type": "code",
   "execution_count": 136,
   "id": "5e6b385a",
   "metadata": {},
   "outputs": [],
   "source": [
    "#Index this allows you to grab a single charater from a string  for example: name= 'hello' \n",
    "#Print this helps to print out the actual string with out the in and out e.g print (\"hello\") expected out come hello\n",
    "#Repleace this allows to replace a world or letter in a string. e.g mystring = \"the sun is very bright\" \n",
    "# Float allows to adjust the width and precision of the floating number \"{value:width.precision f}\" for example. result= 104.12345.  print(\"the result was {r}\".format(r=result))\n",
    "# Capitalize for example. name=\"sam\".  name.capitalize() expected out come is  \"Sam\"\n",
    "# Count this allows to count how many times aspecified number,letter or words is a appering in a string. e.g mystring = \"there is no tomatoe paste today\". mysting.count(\"t\"). expected out come is (5)\n",
    "#Find this allows to know the position of a letter of number in a string. for example mystring = \"set\". mysting.find(\"e\"). expected out come is (1)\n",
    "#Len this allows to show the total number of letters in a string. for example. mystring=\"Hello\". len(\"Hello\") out come is (5)\n",
    "# Center this returns the centred string \n",
    "# #format this allows to format specified values in the string. for example. print('this is a string{}'.format('input')). expected out come is (this is a string input)"
   ]
  },
  {
   "cell_type": "code",
   "execution_count": 1,
   "id": "7e9b1683",
   "metadata": {},
   "outputs": [
    {
     "ename": "SyntaxError",
     "evalue": "invalid syntax (3833901844.py, line 3)",
     "output_type": "error",
     "traceback": [
      "\u001b[1;36m  Input \u001b[1;32mIn [1]\u001b[1;36m\u001b[0m\n\u001b[1;33m    How do you add an element to a set\u001b[0m\n\u001b[1;37m        ^\u001b[0m\n\u001b[1;31mSyntaxError\u001b[0m\u001b[1;31m:\u001b[0m invalid syntax\n"
     ]
    }
   ],
   "source": [
    "#Exercises:\n",
    "\n",
    "How do you add an element to a set\n",
    "How does a set differ from a List\n",
    "What is the result of set[1,2,1,4,2,4,1]\n",
    "What is the result of Len (set([1,2,1,4,2,4,1]))\n",
    "Given:\n",
    "set1 = {10, 20, 30, 40, 50} set2 = {30, 40, 50, 60, 70}\n",
    "\n",
    "Expected output:{70, 40, 10, 50, 20, 60, 30} Use the union() method of a set.\n",
    "\n",
    "Given:\n",
    "set1 = {10, 20, 30, 40, 50} set2 = {30, 40, 50, 60, 70} Expected output:{20, 70, 10, 60} Use the symmetric_difference() method of a set.\n",
    "\n",
    "Given:\n",
    "set1 = {10, 20, 30, 40, 50} set2 = {30, 40, 50, 60, 70} Expected output:{70, 10, 20, 60} Use the symmetric_difference_update() method of a set.\n",
    "\n",
    "Given:\n",
    "set1 = {10, 20, 30, 40, 50} set2 = {30, 40, 50, 60, 70} Expected output:{40, 50, 30} Use the intersection_update() method of a set."
   ]
  },
  {
   "cell_type": "code",
   "execution_count": 133,
   "id": "2cd18e02",
   "metadata": {},
   "outputs": [],
   "source": [
    "\n"
   ]
  },
  {
   "cell_type": "code",
   "execution_count": 87,
   "id": "e7f9defe",
   "metadata": {},
   "outputs": [],
   "source": [
    "#How do you add an element to a set\n",
    "Myset = set()"
   ]
  },
  {
   "cell_type": "code",
   "execution_count": 88,
   "id": "b6d33976",
   "metadata": {},
   "outputs": [
    {
     "data": {
      "text/plain": [
       "set()"
      ]
     },
     "execution_count": 88,
     "metadata": {},
     "output_type": "execute_result"
    }
   ],
   "source": [
    "Myset"
   ]
  },
  {
   "cell_type": "code",
   "execution_count": 89,
   "id": "0bcddb83",
   "metadata": {},
   "outputs": [],
   "source": [
    "Myset.add(1)"
   ]
  },
  {
   "cell_type": "code",
   "execution_count": 91,
   "id": "44cb4841",
   "metadata": {},
   "outputs": [
    {
     "data": {
      "text/plain": [
       "{1}"
      ]
     },
     "execution_count": 91,
     "metadata": {},
     "output_type": "execute_result"
    }
   ],
   "source": [
    "Myset"
   ]
  },
  {
   "cell_type": "code",
   "execution_count": 92,
   "id": "70282539",
   "metadata": {},
   "outputs": [],
   "source": [
    "#How does a set differ from a List\n",
    "#A set are a collection of unique elements. hey dont allow for duplicate items while lists are an ordered sequence of objects"
   ]
  },
  {
   "cell_type": "code",
   "execution_count": 93,
   "id": "8c6358fe",
   "metadata": {},
   "outputs": [],
   "source": [
    "#What is the result of set[1,2,1,4,2,4,1]\n",
    "#set[124]"
   ]
  },
  {
   "cell_type": "code",
   "execution_count": 94,
   "id": "7c00f6b5",
   "metadata": {},
   "outputs": [],
   "source": [
    "#What is the result of Len (set([1,2,1,4,2,4,1]))\n",
    "set=(1,2,1,4,2,4,1)"
   ]
  },
  {
   "cell_type": "code",
   "execution_count": 129,
   "id": "d08a9ca8",
   "metadata": {},
   "outputs": [
    {
     "ename": "SyntaxError",
     "evalue": "invalid syntax (3973020156.py, line 1)",
     "output_type": "error",
     "traceback": [
      "\u001b[1;36m  Input \u001b[1;32mIn [129]\u001b[1;36m\u001b[0m\n\u001b[1;33m    .Len(set([1,2,1,4,2,4,1]))\u001b[0m\n\u001b[1;37m    ^\u001b[0m\n\u001b[1;31mSyntaxError\u001b[0m\u001b[1;31m:\u001b[0m invalid syntax\n"
     ]
    }
   ],
   "source": [
    ".Len(set([1,2,1,4,2,4,1]))"
   ]
  },
  {
   "cell_type": "code",
   "execution_count": 101,
   "id": "3d2eab08",
   "metadata": {},
   "outputs": [],
   "source": [
    "set1 = {10, 20, 30, 40, 50} \n",
    "set2 = {30, 40, 50, 60, 70}"
   ]
  },
  {
   "cell_type": "code",
   "execution_count": 102,
   "id": "32ef7f3c",
   "metadata": {},
   "outputs": [
    {
     "data": {
      "text/plain": [
       "{10, 20, 30, 40, 50, 60, 70}"
      ]
     },
     "execution_count": 102,
     "metadata": {},
     "output_type": "execute_result"
    }
   ],
   "source": [
    "set1.union (set2)"
   ]
  },
  {
   "cell_type": "code",
   "execution_count": 103,
   "id": "d727886f",
   "metadata": {},
   "outputs": [],
   "source": [
    "set1 = {10, 20, 30, 40, 50} \n",
    "set2 = {30, 40, 50, 60, 70}"
   ]
  },
  {
   "cell_type": "code",
   "execution_count": 106,
   "id": "c2b4cfd3",
   "metadata": {},
   "outputs": [
    {
     "data": {
      "text/plain": [
       "{10, 20, 60, 70}"
      ]
     },
     "execution_count": 106,
     "metadata": {},
     "output_type": "execute_result"
    }
   ],
   "source": [
    "set1.symmetric_difference(set2)"
   ]
  },
  {
   "cell_type": "code",
   "execution_count": 113,
   "id": "03c6ef78",
   "metadata": {},
   "outputs": [],
   "source": [
    "set1 = {10, 20, 30, 40, 50} \n",
    "set2 = {30, 40, 50, 60, 70} "
   ]
  },
  {
   "cell_type": "code",
   "execution_count": 132,
   "id": "8e8571cb",
   "metadata": {},
   "outputs": [],
   "source": [
    "set1.symmetric_difference_update(set2)"
   ]
  },
  {
   "cell_type": "code",
   "execution_count": null,
   "id": "a1934e0d",
   "metadata": {},
   "outputs": [],
   "source": []
  },
  {
   "cell_type": "code",
   "execution_count": 114,
   "id": "60fa37cb",
   "metadata": {},
   "outputs": [],
   "source": [
    "set1 = {10, 20, 30, 40, 50} \n",
    "set2 = {30, 40, 50, 60, 70}"
   ]
  },
  {
   "cell_type": "code",
   "execution_count": 126,
   "id": "2c3589ce",
   "metadata": {},
   "outputs": [],
   "source": [
    "set1.intersection_update(set2)"
   ]
  },
  {
   "cell_type": "code",
   "execution_count": null,
   "id": "e3ac7118",
   "metadata": {},
   "outputs": [],
   "source": []
  },
  {
   "cell_type": "code",
   "execution_count": null,
   "id": "cb7542ac",
   "metadata": {},
   "outputs": [],
   "source": []
  },
  {
   "cell_type": "code",
   "execution_count": null,
   "id": "459fe0b9",
   "metadata": {},
   "outputs": [],
   "source": [
    "\n"
   ]
  },
  {
   "cell_type": "code",
   "execution_count": null,
   "id": "f9b197a8",
   "metadata": {},
   "outputs": [],
   "source": []
  },
  {
   "cell_type": "code",
   "execution_count": null,
   "id": "e4b7535c",
   "metadata": {},
   "outputs": [],
   "source": []
  },
  {
   "cell_type": "code",
   "execution_count": null,
   "id": "cbd5dc0c",
   "metadata": {},
   "outputs": [],
   "source": []
  },
  {
   "cell_type": "code",
   "execution_count": null,
   "id": "e99c4623",
   "metadata": {},
   "outputs": [],
   "source": []
  },
  {
   "cell_type": "code",
   "execution_count": null,
   "id": "9a0ad737",
   "metadata": {},
   "outputs": [],
   "source": []
  },
  {
   "cell_type": "code",
   "execution_count": null,
   "id": "88231fac",
   "metadata": {},
   "outputs": [],
   "source": []
  },
  {
   "cell_type": "code",
   "execution_count": null,
   "id": "cb1b76dc",
   "metadata": {},
   "outputs": [],
   "source": []
  },
  {
   "cell_type": "code",
   "execution_count": null,
   "id": "d5142bbd",
   "metadata": {},
   "outputs": [],
   "source": []
  },
  {
   "cell_type": "code",
   "execution_count": null,
   "id": "50a14850",
   "metadata": {},
   "outputs": [],
   "source": []
  },
  {
   "cell_type": "code",
   "execution_count": null,
   "id": "f82862da",
   "metadata": {},
   "outputs": [],
   "source": []
  },
  {
   "cell_type": "code",
   "execution_count": null,
   "id": "9c2f5942",
   "metadata": {},
   "outputs": [],
   "source": []
  },
  {
   "cell_type": "code",
   "execution_count": null,
   "id": "f5d26000",
   "metadata": {},
   "outputs": [],
   "source": []
  },
  {
   "cell_type": "code",
   "execution_count": null,
   "id": "93866a28",
   "metadata": {},
   "outputs": [],
   "source": []
  },
  {
   "cell_type": "code",
   "execution_count": null,
   "id": "d7cfcce1",
   "metadata": {},
   "outputs": [],
   "source": []
  }
 ],
 "metadata": {
  "kernelspec": {
   "display_name": "Python 3 (ipykernel)",
   "language": "python",
   "name": "python3"
  },
  "language_info": {
   "codemirror_mode": {
    "name": "ipython",
    "version": 3
   },
   "file_extension": ".py",
   "mimetype": "text/x-python",
   "name": "python",
   "nbconvert_exporter": "python",
   "pygments_lexer": "ipython3",
   "version": "3.9.12"
  }
 },
 "nbformat": 4,
 "nbformat_minor": 5
}
